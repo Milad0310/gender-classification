{
  "nbformat": 4,
  "nbformat_minor": 0,
  "metadata": {
    "colab": {
      "provenance": [],
      "private_outputs": true
    },
    "kernelspec": {
      "name": "python3",
      "display_name": "Python 3"
    },
    "language_info": {
      "name": "python"
    }
  },
  "cells": [
    {
      "cell_type": "code",
      "source": [
        "#importing Required Libraries\n",
        "import torchvision\n",
        "import torch.nn as nn\n",
        "import torch\n",
        "\n",
        "import torch.nn.functional as F\n",
        "from torchvision import transforms,models,datasets\n",
        "from torch import optim\n",
        "\n",
        "import matplotlib.pyplot as plt\n",
        "import numpy as np\n",
        "\n",
        "device = torch.device(\"cuda\" if torch.cuda.is_available() else \"cpu\")\n",
        "import cv2, numpy as np, pandas as pd\n",
        "import matplotlib.pyplot as plt\n",
        "%matplotlib inline\n",
        "\n",
        "!pip install torchsummary\n",
        "import os\n",
        "from glob import glob"
      ],
      "metadata": {
        "id": "i1ieRNW4sBFN"
      },
      "execution_count": null,
      "outputs": []
    },
    {
      "cell_type": "code",
      "source": [
        "# upload our Kaggle authentication file\n",
        "! pip install kaggle"
      ],
      "metadata": {
        "id": "OlUfnfhb0ngt"
      },
      "execution_count": null,
      "outputs": []
    },
    {
      "cell_type": "code",
      "source": [
        "from google.colab import drive\n",
        "drive.mount('/content/drive')"
      ],
      "metadata": {
        "id": "oD6O_eDKZaRz"
      },
      "execution_count": null,
      "outputs": []
    },
    {
      "cell_type": "code",
      "source": [
        "! mkdir ~/.kaggle"
      ],
      "metadata": {
        "id": "pHjrZPHgZnNy"
      },
      "execution_count": null,
      "outputs": []
    },
    {
      "cell_type": "code",
      "source": [
        "! cp kaggle.json ~/.kaggle/"
      ],
      "metadata": {
        "id": "SUMmjvjbd-T9"
      },
      "execution_count": null,
      "outputs": []
    },
    {
      "cell_type": "code",
      "source": [
        "! chmod 600 ~/.kaggle/kaggle.json"
      ],
      "metadata": {
        "id": "0t0v6pRveZVh"
      },
      "execution_count": null,
      "outputs": []
    },
    {
      "cell_type": "code",
      "source": [
        "# download the cats and dogs dataset and unzip it\n",
        "! kaggle datasets download cashutosh/gender-classification-dataset"
      ],
      "metadata": {
        "id": "fZ-fCGMxeyd7"
      },
      "execution_count": null,
      "outputs": []
    },
    {
      "cell_type": "code",
      "source": [
        "! unzip gender-classification-dataset.zip"
      ],
      "metadata": {
        "id": "1AXbnYUtk0zW"
      },
      "execution_count": null,
      "outputs": []
    },
    {
      "cell_type": "code",
      "source": [
        "train_data_dir = \"/content/Training\"\n",
        "test_data_dir = \"/content/Validation\""
      ],
      "metadata": {
        "id": "MBcdVzSylN4u"
      },
      "execution_count": null,
      "outputs": []
    },
    {
      "cell_type": "code",
      "source": [
        "transforms_train = transforms.Compose([\n",
        "    transforms.Resize((224, 224)),\n",
        "    transforms.RandomHorizontalFlip(), # data augmentation\n",
        "    transforms.ToTensor(),\n",
        "    transforms.Normalize([0.485, 0.456, 0.406], [0.229, 0.224, 0.225]) # normalization\n",
        "])\n",
        "\n",
        "transforms_val = transforms.Compose([\n",
        "    transforms.Resize((224, 224)),\n",
        "    transforms.ToTensor(),\n",
        "    transforms.Normalize([0.485, 0.456, 0.406], [0.229, 0.224, 0.225])\n",
        "])\n",
        "\n",
        "train_dir = '/content/Training'\n",
        "val_dir = '/content/Validation'\n",
        "\n",
        "train_datasets = (datasets.ImageFolder(os.path.join(train_dir), transforms_train))\n",
        "val_datasets = (datasets.ImageFolder(os.path.join(val_dir), transforms_val))"
      ],
      "metadata": {
        "id": "aAy9omIVMiJl"
      },
      "execution_count": null,
      "outputs": []
    },
    {
      "cell_type": "markdown",
      "source": [],
      "metadata": {
        "id": "xHiDJOipi7xQ"
      }
    },
    {
      "cell_type": "code",
      "source": [
        "print(type(train_datasets))"
      ],
      "metadata": {
        "id": "Z0QRsc1iiCR3"
      },
      "execution_count": null,
      "outputs": []
    },
    {
      "cell_type": "code",
      "source": [
        "# creates a DataLoader with a batch_size of 16\n",
        "def get_data():\n",
        "\n",
        "  train_dataloader = torch.utils.data.DataLoader(train_datasets, batch_size=16, shuffle=True, num_workers=4)\n",
        "  val_dataloader = torch.utils.data.DataLoader(val_datasets,  batch_size=16, shuffle=True, num_workers=4)\n",
        "\n",
        "  return train_dataloader, val_dataloader"
      ],
      "metadata": {
        "id": "pR3Su1E0S2Df"
      },
      "execution_count": null,
      "outputs": []
    },
    {
      "cell_type": "code",
      "source": [
        "data = train_datasets\n",
        "im, label = data[50]"
      ],
      "metadata": {
        "id": "MX3kVhS8GjjL"
      },
      "execution_count": null,
      "outputs": []
    },
    {
      "cell_type": "code",
      "source": [
        "plt.imshow(im.permute(1,2,0).cpu())\n",
        "print(label)"
      ],
      "metadata": {
        "id": "VY8SQawfG7lY"
      },
      "execution_count": null,
      "outputs": []
    },
    {
      "cell_type": "code",
      "execution_count": null,
      "metadata": {
        "id": "dv4p0a3xlH4y"
      },
      "outputs": [],
      "source": [
        "def get_model():\n",
        "\n",
        "    model = models.vgg16(pretrained=True)\n",
        "    for param in model.parameters():\n",
        "        param.requires_grad = False\n",
        "\n",
        "    model.avgpool = nn.AdaptiveAvgPool2d(output_size=(1,1))\n",
        "    model.classifier = nn.Sequential(nn.Flatten(),\n",
        "\n",
        "    nn.Linear(512, 128),\n",
        "    nn.ReLU(),\n",
        "    nn.Dropout(0.2),\n",
        "    nn.Linear(128, 1),\n",
        "    nn.Sigmoid())\n",
        "\n",
        "    loss_fn = nn.BCELoss()\n",
        "    optimizer = torch.optim.Adam(model.parameters(), lr= 1e-3)\n",
        "\n",
        "    return model.to(device), loss_fn, optimizer"
      ]
    },
    {
      "cell_type": "code",
      "source": [
        "from torchsummary import summary\n",
        "\n",
        "model, loss_fn, optimizer = get_model()\n",
        "summary(model, input_size=(3, 224, 224))"
      ],
      "metadata": {
        "id": "PHZz-2CcNy0-"
      },
      "execution_count": null,
      "outputs": []
    },
    {
      "cell_type": "code",
      "source": [
        "# Define the function that will train the model on a batch of data\n",
        "def train_batch(x, y, model, opt, loss_fn):\n",
        "\n",
        "    prediction = model(x)\n",
        "    batch_loss = loss_fn(prediction, y)\n",
        "    batch_loss.backward()\n",
        "    optimizer.step()\n",
        "    optimizer.zero_grad()\n",
        "\n",
        "    return batch_loss.item()\n",
        "\n",
        "# Define the functions for calculating accuracy and validation loss\n",
        "@torch.no_grad()\n",
        "def accuracy(x, y, model):\n",
        "\n",
        "    prediction = model(x)\n",
        "    is_correct = (prediction > 0.5) == y\n",
        "    return is_correct.cpu().numpy().tolist()"
      ],
      "metadata": {
        "id": "ndPVrIRpRQQW"
      },
      "execution_count": null,
      "outputs": []
    },
    {
      "cell_type": "code",
      "source": [
        "@torch.no_grad()\n",
        "def val_loss(x, y, model):\n",
        "    prediction = model(x)\n",
        "    val_loss = loss_fn(prediction, y)\n",
        "    return val_loss.item()"
      ],
      "metadata": {
        "id": "AlcB5tpQS6kU"
      },
      "execution_count": null,
      "outputs": []
    },
    {
      "cell_type": "code",
      "source": [
        "trn_dl, val_dl = get_data()\n",
        "model, loss_fn, optimizer = get_model()"
      ],
      "metadata": {
        "id": "04DV1wixTu3W"
      },
      "execution_count": null,
      "outputs": []
    },
    {
      "cell_type": "code",
      "source": [
        "# Train the model for 5 epochs and check the accuracy of the test data\n",
        "train_accuracies = []\n",
        "val_accuracies = []\n",
        "\n",
        "for epoch in range(2):\n",
        "\n",
        "    print(epoch)\n",
        "    train_epoch_losses, train_epoch_accuracies = [], []\n",
        "    val_epoch_accuracies = []\n",
        "\n",
        "    for ix, batch in enumerate(iter(trn_dl)):\n",
        "        #print(ix)\n",
        "        x, y = batch\n",
        "        x, y = x.float(), y.float().view(-1, 1)\n",
        "        batch_loss = train_batch(x, y, model, optimizer, loss_fn)\n",
        "        train_epoch_losses.append(batch_loss)\n",
        "\n",
        "    for ix, batch in enumerate(iter(trn_dl)):\n",
        "        x, y = batch\n",
        "        is_correct = accuracy(x, y, model)\n",
        "        train_epoch_accuracies.extend(is_correct)\n",
        "    train_epoch_accuracy = np.mean(train_epoch_accuracies)\n",
        "\n",
        "    for ix, batch in enumerate(iter(val_dl)):\n",
        "        x, y = batch\n",
        "        val_is_correct = accuracy(x, y, model)\n",
        "        val_epoch_accuracies.extend(val_is_correct)\n",
        "\n",
        "    val_epoch_accuracy = np.mean(val_epoch_accuracies)\n",
        "\n",
        "    train_accuracies.append(train_epoch_accuracy)\n",
        "    val_accuracies.append(val_epoch_accuracy)"
      ],
      "metadata": {
        "id": "3V6i0T6bUebZ"
      },
      "execution_count": null,
      "outputs": []
    },
    {
      "cell_type": "code",
      "source": [
        "# plot the variation of the training and validation accuracies over increasing epochs\n",
        "epochs = np.arange(2)+1\n",
        "\n",
        "import matplotlib.pyplot as plt\n",
        "%matplotlib inline\n",
        "\n",
        "plt.plot(epochs, train_accuracies, label='Training accuracy')\n",
        "plt.plot(epochs, val_accuracies, label='Validation accuracy')\n",
        "\n",
        "plt.title('Training and validation accuracy with 4K data points used for training')\n",
        "plt.xlabel('Epochs')\n",
        "plt.ylabel('Accuracy')\n",
        "#plt.ylim(0.8,1)\n",
        "\n",
        "plt.show()"
      ],
      "metadata": {
        "id": "bWxc27WNLlqs"
      },
      "execution_count": null,
      "outputs": []
    }
  ]
}